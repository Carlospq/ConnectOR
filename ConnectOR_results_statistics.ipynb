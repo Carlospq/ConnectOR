{
 "cells": [
  {
   "cell_type": "markdown",
   "metadata": {},
   "source": [
    "# STATISTICS"
   ]
  },
  {
   "cell_type": "raw",
   "metadata": {},
   "source": [
    "Analysis of ConncetOR predictions on Human - Mouse - Zebrafish annotations.\n",
    "    Human:     Hg38     - NONCODE\n",
    "    Mouse:     Mm10     - NONCODE\n",
    "    Zebrafish: DanRer10 - NONCODE    "
   ]
  },
  {
   "cell_type": "markdown",
   "metadata": {},
   "source": [
    "### Download BED12 files from NONCODE"
   ]
  },
  {
   "cell_type": "code",
   "execution_count": 16,
   "metadata": {},
   "outputs": [
    {
     "name": "stdout",
     "output_type": "stream",
     "text": [
      "Process is interrupted.\n"
     ]
    }
   ],
   "source": [
    "%%bash\n",
    "# Human\n",
    "wget http://www.noncode.org/datadownload/NONCODEv5_hg38.lncAndGene.bed.gz -O GTFs/NONCODE_hg38.gz\n",
    "# Mouse\n",
    "wget http://www.noncode.org/datadownload/NONCODEv5_mm10.lncAndGene.bed.gz -O GTFs/NONCODE_mm10.gz\n",
    "# Zebrafish\n",
    "wget http://www.noncode.org/datadownload/NONCODEv5_danRer10.lncAndGene.bed.gz -O GTFs/NONCODE_danrer10.gz"
   ]
  },
  {
   "cell_type": "markdown",
   "metadata": {},
   "source": [
    "### BED12 to GTF"
   ]
  },
  {
   "cell_type": "code",
   "execution_count": 6,
   "metadata": {},
   "outputs": [],
   "source": [
    "%%bash\n",
    "for bed in NONCODE_danrer10.gz NONCODE_hg38.gz NONCODE_mm10.gz; do\n",
    "    name=$(echo $bed | awk '{split($1,a,\".gz\"); print a[1]}')\n",
    "    bedToGenePred  GTFs/$bed  GTFs/$name.gpf\n",
    "    genePredToGtf \"file\" GTFs/$name.gpf GTFs/$name.gtf\n",
    "done\n",
    "rm GTFs/*.gpf\n",
    "#rm GTFs/NONCODE_*.gz"
   ]
  },
  {
   "cell_type": "markdown",
   "metadata": {},
   "source": [
    "### Merge NONCODE with protein_coding genes from ENCODE"
   ]
  },
  {
   "cell_type": "code",
   "execution_count": 2,
   "metadata": {},
   "outputs": [],
   "source": [
    "%%bash\n",
    "grep protein_coding <(zcat GTFs/Danio_rerio.GRCz11.98.gtf.gz) | awk '{print \"chr\"$0}' > GTFs/danrer10.gtf\n",
    "grep protein_coding <(zcat GTFs/Homo_sapiens.GRCh38.98.gtf.gz) | awk '{print \"chr\"$0}' > GTFs/hg38.gtf\n",
    "grep protein_coding <(zcat GTFs/Mus_musculus.GRCm38.98.gtf.gz) | awk '{print \"chr\"$0}' > GTFs/mm10.gtf"
   ]
  },
  {
   "cell_type": "code",
   "execution_count": 1,
   "metadata": {},
   "outputs": [],
   "source": [
    "%%bash\n",
    "for i in GTFs/new_NONCODE_danrer10.gtf GTFs/new_NONCODE_hg38.gtf GTFs/new_NONCODE_mm10.gtf; do\n",
    "    awk '{print $0\"gene_biotype \\\"lincRNA\\\";\"}' $i > GTFs/tmp.gtf\n",
    "    mv tmp.gtf $i\n",
    "done"
   ]
  },
  {
   "cell_type": "code",
   "execution_count": 3,
   "metadata": {},
   "outputs": [],
   "source": [
    "%%bash\n",
    "cat GTFs/new_NONCODE_danrer10.gtf >> GTFs/danrer10.gtf\n",
    "cat GTFs/new_NONCODE_hg38.gtf >> GTFs/hg38.gtf\n",
    "cat GTFs/new_NONCODE_mm10.gtf >> GTFs/mm10.gtf"
   ]
  },
  {
   "cell_type": "code",
   "execution_count": 4,
   "metadata": {},
   "outputs": [],
   "source": [
    "%%bash\n",
    "for i in GTFs/danrer10.gtf GTFs/hg38.gtf GTFs/mm10.gtf; do\n",
    "    awk 'NR==FNR {h[$1] = $1; next} ($1 in h) {print $0}' GTFs/chrs.txt $i > GTFs/tmp.gtf\n",
    "    mv GTFs/tmp.gtf $i\n",
    "done\n",
    "\n",
    "sort -k1,1 -k4,4n -o GTFs/danrer10.gtf GTFs/danrer10.gtf\n",
    "sort -k1,1 -k4,4n -o GTFs/hg38.gtf GTFs/hg38.gtf\n",
    "sort -k1,1 -k4,4n -o GTFs/mm10.gtf GTFs/mm10.gtf"
   ]
  },
  {
   "cell_type": "markdown",
   "metadata": {},
   "source": [
    "### RUN ConnectOR on NONCODE + pc genes from ENSEMBL"
   ]
  },
  {
   "cell_type": "code",
   "execution_count": 5,
   "metadata": {},
   "outputs": [
    {
     "name": "stdout",
     "output_type": "stream",
     "text": [
      "     9506 classification_50/danrer10tohg38.classification\n",
      "    33425 classification_50/danrer10tohg38.classification.exons.csv\n",
      "    33425 classification_50/danrer10tohg38.classification.genes.csv\n",
      "       84 classification_50/danrer10tohg38.pdf\n",
      "     8229 classification_50/danrer10tomm10.classification\n",
      "    33425 classification_50/danrer10tomm10.classification.exons.csv\n",
      "    33425 classification_50/danrer10tomm10.classification.genes.csv\n",
      "       88 classification_50/danrer10tomm10.pdf\n",
      "    31106 classification_50/hg38todanrer10.classification\n",
      "   284467 classification_50/hg38todanrer10.classification.exons.csv\n",
      "   284467 classification_50/hg38todanrer10.classification.genes.csv\n",
      "       94 classification_50/hg38todanrer10.pdf\n",
      "   117894 classification_50/hg38tomm10.classification\n",
      "   284467 classification_50/hg38tomm10.classification.exons.csv\n",
      "   284467 classification_50/hg38tomm10.classification.genes.csv\n",
      "       93 classification_50/hg38tomm10.pdf\n",
      "    22479 classification_50/mm10todanrer10.classification\n",
      "   241292 classification_50/mm10todanrer10.classification.exons.csv\n",
      "   241292 classification_50/mm10todanrer10.classification.genes.csv\n",
      "       91 classification_50/mm10todanrer10.pdf\n",
      "    95138 classification_50/mm10tohg38.classification\n",
      "   241292 classification_50/mm10tohg38.classification.exons.csv\n",
      "   241292 classification_50/mm10tohg38.classification.genes.csv\n",
      "       85 classification_50/mm10tohg38.pdf\n",
      "  2521623 total\n"
     ]
    }
   ],
   "source": [
    "%%bash\n",
    "wc -l classification_50/*"
   ]
  },
  {
   "cell_type": "code",
   "execution_count": 7,
   "metadata": {},
   "outputs": [
    {
     "name": "stdout",
     "output_type": "stream",
     "text": [
      "si:ch211-214p16.3\tnone\tnone\t.\t[1, 0, 0, 0, 0, 0]\t.\t[1, 0, 0, 0, 0, 0]\n",
      "fnbp4\tlncRNA_PC\tlncRNA_PC\t.;PARP6;NONHSAG070849.1\t[1, 1, 0, 1, 0, 0]\t.;PARP6;NONHSAG070849.1\t[1, 1, 0, 1, 0, 0]\n",
      "syt14b\tlncRNA\tlncRNA\tNONHSAG093192.1\t[0, 1, 0, 0, 0, 0]\tNONHSAG093192.1\t[0, 1, 0, 0, 0, 0]\n",
      "pstpip1b\tnone\tnone\t.\t[1, 0, 0, 0, 0, 0]\t.\t[1, 0, 0, 0, 0, 0]\n",
      "si:dkey-175m17.7\tpc\tpc\tSART1\t[0, 0, 0, 1, 0, 0]\tSART1\t[0, 0, 0, 1, 0, 0]\n",
      "rims3\tnone\tnone\t.\t[1, 0, 0, 0, 0, 0]\t.\t[1, 0, 0, 0, 0, 0]\n",
      "adcy6a\tnone\tnone\t.\t[1, 0, 0, 0, 0, 0]\t.\t[1, 0, 0, 0, 0, 0]\n",
      "rabggta\tnone\tnone\t.\t[1, 0, 0, 0, 0, 0]\t.\t[1, 0, 0, 0, 0, 0]\n",
      "hbp1\tnone\tnone\t.\t[1, 0, 0, 0, 0, 0]\t.\t[1, 0, 0, 0, 0, 0]\n",
      "znf999\tnone\tnone\t.\t[1, 0, 0, 0, 0, 0]\t.\t[1, 0, 0, 0, 0, 0]\n",
      "\n",
      "gene,Biotype,variable,value,score\n",
      "a1cf,PC,e_class,no_lifted,0.1\n",
      "a2ml,PC,e_class,none,0.25\n",
      "aaas,PC,e_class,pc,0.1\n",
      "aacs,PC,e_class,none,0.25\n",
      "aadac,PC,e_class,pc,0.1\n",
      "aadacl4,PC,e_class,no_lifted,0.1\n",
      "aadat,PC,e_class,none,0.25\n",
      "aagab,PC,e_class,no_lifted,0.1\n",
      "aak1a,PC,e_class,no_lifted,0.1\n"
     ]
    }
   ],
   "source": [
    "%%bash\n",
    "head classification_50/danrer10tohg38.classification\n",
    "echo ''\n",
    "head classification_50/danrer10tohg38.classification.exons.csv"
   ]
  },
  {
   "cell_type": "code",
   "execution_count": null,
   "metadata": {},
   "outputs": [],
   "source": []
  }
 ],
 "metadata": {
  "kernelspec": {
   "display_name": "Python 3",
   "language": "python",
   "name": "python3"
  },
  "language_info": {
   "codemirror_mode": {
    "name": "ipython",
    "version": 3
   },
   "file_extension": ".py",
   "mimetype": "text/x-python",
   "name": "python",
   "nbconvert_exporter": "python",
   "pygments_lexer": "ipython3",
   "version": "3.7.3"
  }
 },
 "nbformat": 4,
 "nbformat_minor": 2
}
