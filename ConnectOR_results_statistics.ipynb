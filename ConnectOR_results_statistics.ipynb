{
 "cells": [
  {
   "cell_type": "markdown",
   "metadata": {},
   "source": [
    "# STATISTICS"
   ]
  },
  {
   "cell_type": "markdown",
   "metadata": {},
   "source": [
    "Analysis of ConncetOR predictions on Human - Mouse - Zebrafish annotations.\n",
    "    Human:     Hg38     - NONCODE\n",
    "    Mouse:     Mm10     - NONCODE\n",
    "    Zebrafish: DanRer10 - NONCODE    "
   ]
  },
  {
   "cell_type": "markdown",
   "metadata": {},
   "source": [
    "### Download BED12 files from NONCODE"
   ]
  },
  {
   "cell_type": "code",
   "execution_count": 16,
   "metadata": {},
   "outputs": [
    {
     "name": "stdout",
     "output_type": "stream",
     "text": [
      "Process is interrupted.\n"
     ]
    }
   ],
   "source": [
    "%%bash\n",
    "# Human\n",
    "wget http://www.noncode.org/datadownload/NONCODEv5_hg38.lncAndGene.bed.gz -O GTFs/NONCODE_hg38.gz\n",
    "# Mouse\n",
    "wget http://www.noncode.org/datadownload/NONCODEv5_mm10.lncAndGene.bed.gz -O GTFs/NONCODE_mm10.gz\n",
    "# Zebrafish\n",
    "wget http://www.noncode.org/datadownload/NONCODEv5_danRer10.lncAndGene.bed.gz -O GTFs/NONCODE_danrer10.gz"
   ]
  },
  {
   "cell_type": "markdown",
   "metadata": {},
   "source": [
    "### BED12 to GTF"
   ]
  },
  {
   "cell_type": "code",
   "execution_count": 6,
   "metadata": {},
   "outputs": [],
   "source": [
    "%%bash\n",
    "for bed in NONCODE_danrer10.gz NONCODE_hg38.gz NONCODE_mm10.gz; do\n",
    "    name=$(echo $bed | awk '{split($1,a,\".gz\"); print a[1]}')\n",
    "    bedToGenePred  GTFs/$bed  GTFs/$name.gpf\n",
    "    genePredToGtf \"file\" GTFs/$name.gpf GTFs/$name.gtf\n",
    "done\n",
    "rm GTFs/*.gpf\n",
    "#rm GTFs/NONCODE_*.gz"
   ]
  },
  {
   "cell_type": "markdown",
   "metadata": {},
   "source": [
    "### Merge NONCODE with protein_coding genes from ENCODE"
   ]
  },
  {
   "cell_type": "code",
   "execution_count": 7,
   "metadata": {},
   "outputs": [],
   "source": [
    "%%bash\n",
    "grep protein_coding <(zcat GTFs/Danio_rerio.GRCz11.98.gtf.gz) | awk '{print \"chr\"$0}' > GTFs/danrer10.gtf\n",
    "grep protein_coding <(zcat GTFs/Homo_sapiens.GRCh38.98.gtf.gz) | awk '{print \"chr\"$0}' > GTFs/hg38.gtf\n",
    "grep protein_coding <(zcat GTFs/Mus_musculus.GRCm38.98.gtf.gz) | awk '{print \"chr\"$0}' > GTFs/mm10.gtf"
   ]
  },
  {
   "cell_type": "code",
   "execution_count": 8,
   "metadata": {},
   "outputs": [],
   "source": [
    "%%bash\n",
    "for i in GTFs/NONCODE_danrer10.gtf GTFs/NONCODE_hg38.gtf GTFs/NONCODE_mm10.gtf; do\n",
    "    awk '{print $0\"gene_biotype \\\"lincRNA\\\";\"}' $i > tmp.gtf\n",
    "    mv tmp.gtf $i\n",
    "done"
   ]
  },
  {
   "cell_type": "code",
   "execution_count": 9,
   "metadata": {},
   "outputs": [],
   "source": [
    "%%bash\n",
    "cat GTFs/NONCODE_danrer10.gtf >> GTFs/danrer10.gtf\n",
    "cat GTFs/NONCODE_hg38.gtf >> GTFs/hg38.gtf\n",
    "cat GTFs/NONCODE_mm10.gtf >> GTFs/mm10.gtf"
   ]
  },
  {
   "cell_type": "code",
   "execution_count": 12,
   "metadata": {},
   "outputs": [],
   "source": [
    "%%bash\n",
    "for i in GTFs/danrer10.gtf GTFs/hg38.gtf GTFs/mm10.gtf; do\n",
    "    awk 'NR==FNR {h[$1] = $1; next} ($1 in h) {print $0}' GTFs/chrs.txt $i > GTFs/tmp.gtf\n",
    "    mv GTFs/tmp.gtf $i\n",
    "done\n",
    "\n",
    "sort -k1,1 -k4,4n -o GTFs/danrer10.gtf GTFs/danrer10.gtf\n",
    "sort -k1,1 -k4,4n -o GTFs/hg38.gtf GTFs/hg38.gtf\n",
    "sort -k1,1 -k4,4n -o GTFs/mm10.gtf GTFs/mm10.gtf"
   ]
  },
  {
   "cell_type": "code",
   "execution_count": 13,
   "metadata": {},
   "outputs": [
    {
     "name": "stdout",
     "output_type": "stream",
     "text": [
      "chr1\n",
      "chr10\n",
      "chr11\n",
      "chr12\n",
      "chr13\n",
      "chr14\n",
      "chr15\n",
      "chr16\n",
      "chr17\n",
      "chr18\n",
      "chr19\n",
      "chr2\n",
      "chr20\n",
      "chr21\n",
      "chr22\n",
      "chr23\n",
      "chr24\n",
      "chr25\n",
      "chr3\n",
      "chr4\n",
      "chr5\n",
      "chr6\n",
      "chr7\n",
      "chr8\n",
      "chr9\n",
      "chrM\n",
      "chrMT\n",
      "chrX\n",
      "chrY\n"
     ]
    }
   ],
   "source": [
    "%%bash\n",
    "cat GTFs/chrs.txt"
   ]
  },
  {
   "cell_type": "code",
   "execution_count": null,
   "metadata": {},
   "outputs": [],
   "source": []
  }
 ],
 "metadata": {
  "kernelspec": {
   "display_name": "Python 3",
   "language": "python",
   "name": "python3"
  },
  "language_info": {
   "codemirror_mode": {
    "name": "ipython",
    "version": 3
   },
   "file_extension": ".py",
   "mimetype": "text/x-python",
   "name": "python",
   "nbconvert_exporter": "python",
   "pygments_lexer": "ipython3",
   "version": "3.7.3"
  }
 },
 "nbformat": 4,
 "nbformat_minor": 2
}
